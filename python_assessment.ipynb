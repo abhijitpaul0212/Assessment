{
 "cells": [
  {
   "cell_type": "code",
   "execution_count": 60,
   "metadata": {},
   "outputs": [
    {
     "name": "stdout",
     "output_type": "stream",
     "text": [
      "{'abc': ['def', 'ghi', 'jkl', 'mno', 'pqr', 'stu', 'vwx', 'yz'], 'def': ['ghi', 'jkl', 'mno', 'pqr', 'stu', 'vwx', 'yz'], 'ghi': ['jkl', 'mno', 'pqr', 'stu', 'vwx', 'yz'], 'jkl': ['mno', 'pqr', 'stu', 'vwx', 'yz'], 'mno': ['pqr', 'stu', 'vwx', 'yz'], 'pqr': ['stu', 'vwx', 'yz'], 'stu': ['vwx', 'yz'], 'vwx': ['yz'], 'yz': ['you are finally here !!!']}\n"
     ]
    }
   ],
   "source": [
    "# Question: 1\n",
    "\n",
    "input_dict = {\"abc\":{\"def\":{\"ghi\":{\"jkl\":{\"mno\":{\"pqr\":{\"stu\":{\"vwx\":{\"yz\":\"you are finally here !!!\"}}}}}}}}}\n",
    "\n",
    "def parse_data(input_data):\n",
    "    key_list = []\n",
    "    output = dict()\n",
    "\n",
    "    def extract_keys(data):    \n",
    "        for k, v in data.items():\n",
    "            key_list.append(k)\n",
    "            if isinstance(v, dict):\n",
    "                return extract_keys(data[k])\n",
    "            else:\n",
    "                key_list.append(v)\n",
    "        return(key_list)\n",
    "\n",
    "    extract_keys(input_data)\n",
    "\n",
    "    # print(key_list)\n",
    "\n",
    "\n",
    "    for i in range(len(key_list)):\n",
    "        if i < len(key_list) -2:                  \n",
    "            output[key_list[i]] = key_list[i+1:-1]\n",
    "        elif i < len(key_list) -1:\n",
    "            output[key_list[i]] = [key_list[-1]]\n",
    "    print(output)\n",
    "\n",
    "parse_data(input_dict)\n",
    "\n",
    "# Answer: \n",
    "\"\"\"{'abc': ['def', 'ghi', 'jkl', 'mno', 'pqr', 'stu', 'vwx', 'yz'], \n",
    "'def': ['ghi', 'jkl', 'mno', 'pqr', 'stu', 'vwx', 'yz'], \n",
    "'ghi': ['jkl', 'mno', 'pqr', 'stu', 'vwx', 'yz'], \n",
    "'jkl': ['mno', 'pqr', 'stu', 'vwx', 'yz'], \n",
    "'mno': ['pqr', 'stu', 'vwx', 'yz'], \n",
    "'pqr': ['stu', 'vwx', 'yz'], \n",
    "'stu': ['vwx', 'yz'], \n",
    "'vwx': ['yz'], \n",
    "'yz': ['you are finally here !!!']}\"\"\""
   ]
  },
  {
   "cell_type": "code",
   "execution_count": 89,
   "metadata": {},
   "outputs": [
    {
     "name": "stdout",
     "output_type": "stream",
     "text": [
      "3\n"
     ]
    }
   ],
   "source": [
    "# Question: 2\n",
    "\n",
    "def can_place_horses(stalls, k, min_distance):\n",
    "    horses = 1\n",
    "    last_stall = stalls[0]\n",
    "    for stall in stalls[1:]:\n",
    "        if stall - last_stall >= min_distance:\n",
    "            horses += 1\n",
    "            last_stall = stall\n",
    "    return horses >= k\n",
    "\n",
    "def max_min_distance(stalls, k):\n",
    "    stalls.sort()\n",
    "    low = 1\n",
    "    high = stalls[-1] - stalls[0] + 1\n",
    "\n",
    "    while low < high:\n",
    "        mid = low + (high - low) // 2\n",
    "        if can_place_horses(stalls, k, mid):\n",
    "            low = mid + 1\n",
    "        else:\n",
    "            high = mid\n",
    "    return low - 1\n",
    "\n",
    "stalls = [1, 2, 4, 8, 9]\n",
    "k = 3\n",
    "print(max_min_distance(stalls, k))\n",
    "\n",
    "# Answer: 3\n"
   ]
  },
  {
   "cell_type": "code",
   "execution_count": 88,
   "metadata": {},
   "outputs": [
    {
     "name": "stdout",
     "output_type": "stream",
     "text": [
      "Target:  0\n",
      "Distinct Indexes: 0, 1, 2, 5 --> Total: -1 \n",
      "Distinct Indexes: 0, 1, 3, 5 --> Total: -1 \n",
      "Distinct Indexes: 0, 1, 4, 5 --> Total: 0 \n",
      "Distinct Indexes: 0, 2, 3, 5 --> Total: 0 \n",
      "Distinct Indexes: 1, 2, 3, 5 --> Total: 1 \n",
      "Distinct Indexes: 1, 2, 3, 4 --> Total: 0 \n",
      "Distinct Indexes: 2, 3, 4, 5 --> Total: 3 \n",
      "[[-2, -1, 1, 2], [-2, 0, 0, 2], [-1, 0, 0, 1]]\n",
      "Target:  1\n",
      "Distinct Indexes: 0, 1, 2, 5 --> Total: -1 \n",
      "Distinct Indexes: 0, 1, 3, 5 --> Total: -1 \n",
      "Distinct Indexes: 0, 1, 4, 5 --> Total: 0 \n",
      "Distinct Indexes: 0, 2, 3, 5 --> Total: 0 \n",
      "Distinct Indexes: 0, 2, 4, 5 --> Total: 1 \n",
      "Distinct Indexes: 1, 2, 3, 5 --> Total: 1 \n",
      "Distinct Indexes: 2, 3, 4, 5 --> Total: 3 \n",
      "[[-2, 0, 1, 2], [-1, 0, 0, 2]]\n"
     ]
    }
   ],
   "source": [
    "# Question: 4\n",
    "def quadrupletsSum(nums, target):\n",
    "    nums.sort()\n",
    "    result = []\n",
    "    n = len(nums)\n",
    "\n",
    "    print(\"Target: \", target)\n",
    "\n",
    "    for i in range(n - 3):\n",
    "        if i > 0 and nums[i] == nums[i - 1]:\n",
    "            continue\n",
    "        for j in range(i + 1, n - 2):\n",
    "            if j > i + 1 and nums[j] == nums[j - 1]:\n",
    "                continue\n",
    "            left = j + 1\n",
    "            right = n - 1\n",
    "            while left < right:\n",
    "                total = nums[i] + nums[j] + nums[left] + nums[right]\n",
    "                print(\"Distinct Indexes: {}, {}, {}, {} --> Total: {} \".format(i, j, left, right, total))\n",
    "                if total == target:\n",
    "                    result.append([nums[i], nums[j], nums[left], nums[right]])\n",
    "                    while left < right and nums[left] == nums[left + 1]:\n",
    "                        left += 1\n",
    "                    while left < right and nums[right] == nums[right - 1]:\n",
    "                        right -= 1\n",
    "                    left += 1\n",
    "                    right -= 1\n",
    "                elif total < target:\n",
    "                    left += 1\n",
    "                else:\n",
    "                    right -= 1\n",
    "    if len(result) == 0:\n",
    "        print(\"Max Iteration reached, Quadruplets can't be formed\")\n",
    "    else:\n",
    "        print(result)\n",
    "\n",
    "\n",
    "araay = [1, 0, -2, 0, -1, 2]\n",
    "\n",
    "target = 0\n",
    "quadrupletsSum(araay, target)\n",
    "# Answer: [[-2, -1, 1, 2], [-2, 0, 0, 2], [-1, 0, 0, 1]]\n",
    "\n",
    "target = 1\n",
    "quadrupletsSum(araay, target)\n",
    "# Answer: [[-2, 0, 1, 2], [-1, 0, 0, 2]]"
   ]
  }
 ],
 "metadata": {
  "kernelspec": {
   "display_name": ".ineuron_venv",
   "language": "python",
   "name": "python3"
  },
  "language_info": {
   "name": "python",
   "version": "3.8.0"
  }
 },
 "nbformat": 4,
 "nbformat_minor": 2
}
